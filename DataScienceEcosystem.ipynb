{
 "cells": [
  {
   "cell_type": "markdown",
   "id": "4c664587-cd5b-4ef5-8aff-e2c724131614",
   "metadata": {},
   "source": [
    "# Data Science Tools and Ecosystem #"
   ]
  },
  {
   "cell_type": "markdown",
   "id": "8969687f-4c24-4000-80d9-4fcdde364413",
   "metadata": {},
   "source": [
    "In this notebook, Data Science Tools and Ecosystem are summarized."
   ]
  },
  {
   "cell_type": "markdown",
   "id": "b0b715fb-fa12-4b7a-882a-6466c916be2c",
   "metadata": {},
   "source": [
    "**Objectives:**\n",
    "+ List popular languages for Data Science\n",
    "+ List popular libraries for Data Science\n",
    "+ List popular tools for Data Science"
   ]
  },
  {
   "cell_type": "markdown",
   "id": "f27a1785-1863-4dfb-8685-cb2c4be32d51",
   "metadata": {
    "scrolled": true
   },
   "source": [
    "Some of the popular languages that Data Scientists use are:\n",
    "1. R\n",
    "2. Python\n",
    "3. Scala\n",
    "4. SQL"
   ]
  },
  {
   "cell_type": "markdown",
   "id": "f8e38c75-ded4-42a3-b6dd-3b72446290ee",
   "metadata": {},
   "source": [
    "Some of the commonly used libraries used by Data Scientists include:\n",
    "1. Seaborn\n",
    "2. Numpy\n",
    "3. ggplot2\n",
    "4. Spark Vegas\n"
   ]
  },
  {
   "cell_type": "markdown",
   "id": "57acd6a9-72a9-4fe0-86b4-7a71a151c9b6",
   "metadata": {},
   "source": [
    "|Data Science Tools|\n",
    "|------------------|\n",
    "|RStudio|\n",
    "|Anaconda|\n",
    "|Jupyter Notebooks|"
   ]
  },
  {
   "cell_type": "markdown",
   "id": "3ce4eda6-4433-4005-87cd-05d07540219a",
   "metadata": {},
   "source": [
    "### Some of the commonly used libraries used by Data Scientists include: ###"
   ]
  },
  {
   "cell_type": "code",
   "execution_count": 11,
   "id": "e3795c65-0ba5-4871-ad78-a918b4b67b35",
   "metadata": {},
   "outputs": [
    {
     "data": {
      "text/plain": [
       "17"
      ]
     },
     "execution_count": 11,
     "metadata": {},
     "output_type": "execute_result"
    }
   ],
   "source": [
    "# This a simple arithmetic expression to mutiply then add integers\n",
    "(3*4)+5"
   ]
  },
  {
   "cell_type": "code",
   "execution_count": 13,
   "id": "2698b147-584d-44d2-8613-2e087e4b3e6d",
   "metadata": {},
   "outputs": [
    {
     "data": {
      "text/plain": [
       "3.3333333333333335"
      ]
     },
     "execution_count": 13,
     "metadata": {},
     "output_type": "execute_result"
    }
   ],
   "source": [
    "# This will convert 200 minutes to hours by diving by 60\n",
    "200 / 60\n"
   ]
  },
  {
   "cell_type": "markdown",
   "id": "d2874994-f3dd-4f5b-b2db-4e4dd169f0e2",
   "metadata": {},
   "source": [
    "## Author ##\n",
    "Roger Montero"
   ]
  },
  {
   "cell_type": "code",
   "execution_count": null,
   "id": "0ef82f93-d48e-46d8-b9d4-eb1363c4e81c",
   "metadata": {},
   "outputs": [],
   "source": []
  }
 ],
 "metadata": {
  "kernelspec": {
   "display_name": "Python 3 (ipykernel)",
   "language": "python",
   "name": "python3"
  },
  "language_info": {
   "codemirror_mode": {
    "name": "ipython",
    "version": 3
   },
   "file_extension": ".py",
   "mimetype": "text/x-python",
   "name": "python",
   "nbconvert_exporter": "python",
   "pygments_lexer": "ipython3",
   "version": "3.11.7"
  }
 },
 "nbformat": 4,
 "nbformat_minor": 5
}
